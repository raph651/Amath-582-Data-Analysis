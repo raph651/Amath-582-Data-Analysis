{
 "cells": [
  {
   "cell_type": "markdown",
   "id": "a68b0f21",
   "metadata": {},
   "source": [
    "# Chapter 2 \n",
    "> Linear Algebra and Machine Learning"
   ]
  },
  {
   "cell_type": "markdown",
   "id": "11375a91",
   "metadata": {},
   "source": [
    "## Lecture 9\n",
    "___\n",
    "\n",
    "### Review of Linear Algebra\n",
    "\n",
    "Reference Books: Matrix Cookbook by Kaare Brandt Petersen & Michael Syskind Pedersen, 2012\n",
    "\n"
   ]
  },
  {
   "cell_type": "markdown",
   "id": "db611cc5",
   "metadata": {},
   "source": [
    "$A \\in \\mathbb{R}^{n \\times m}, n\\text{ rows and } m\\text{ columns}$ \n",
    "\n",
    "range($A$):=span{\\underline{a}$_1$,...,\\underline{a}$_m$}\n",
    "\n",
    "null($A$):={\\underline{x} $\\in \\mathbb{R}^{m}$|$A$\\underline{x}=0}\n",
    "\n",
    "Column rank = Row rank = number of linearly independent vectors.\n",
    "\n",
    "Full rank: rank(A) = min{m,n}.\n",
    "\n",
    "A \\textbf{nonsingular} or \\textbf{ invertible} matrix is a square matrix of full rank\n",
    "\n",
    "Angle between two vectors: $\\displaystyle \\alpha = cos^{-1}(\\frac{\\mathbf{x}^T\\mathbf{y}}{||\\mathbf{x}||\\cdot ||\\mathbf{y}|| })$\n",
    "\n",
    "$Q$ matrix is \\textbf{ unitary} or \\textbf{ orthogonal} if $Q^T=Q^{-1}$:\n",
    "$||Q\\mathbf{x}||=||\\mathbf{x}||$ rotation\n",
    "\n",
    "\\textbf{ Norms}:\n",
    "\n",
    "$\\displaystyle ||\\mathbf{x}||_p:=(\\sum_{j=1}^n|\\mathbf{x}_j|^p)^{1/p}$\n",
    "\n",
    "$\\displaystyle ||\\mathbf{x}||_1:=\\sum_{j=1}^n|\\mathbf{x}_j|$\n",
    "\n",
    "$\\displaystyle ||\\mathbf{x}||_2:=(\\mathbf{x}^T\\mathbf{x})^{1/2}$\n",
    "\n",
    "$\\displaystyle ||\\mathbf{x}||_\\infty:=\\max_{1\\le j\\le n}|\\mathbf{x}_j|$\n",
    "\n",
    "$\\displaystyle \n",
    "||A||_{(m,n)}:=\\sup_{x\\in \\mathbf{R}^m, \\mathbf{x} \\ne 0}\\frac{||A\\mathbf{x}||_n}{||\\mathbf{x}||_m}=\\sup_{||\\mathbf{x}||_m=1}||A\\mathbf{x}||_n$\n",
    "\n",
    "$\\displaystyle ||A||_1 = \\text{ max column in } A$ <br>\n",
    "$\\displaystyle ||A||_\\infty = \\text{ max row in } A$\n",
    "\n",
    "Frobenins (Hilbert-Schmidt norm): \n",
    "\n",
    "$\\displaystyle ||A||_F = (\\sum_{i=1}^n\\sum_{j=1}^m |a_{i,j}|^2)^{1/2}=\\sqrt{\\text{ Tr}(A^TA)}=\\sqrt{\\text{Tr}(AA^T)}\\text{ , where Tr}(B) = \\sum_j b_{jj}, \\text{ sum of diagonal entries.}$\n",
    "\n",
    "$||QA||_2=||A||_2 \\,\\&\\, ||QA||_F=||A||_F $\n",
    "\n",
    "\\textbf{Singular Value Decomposition} (SVD): rotation & stretching of a basis\n",
    "\n",
    "$U$ - left singular matrix, $V$- right singular matrix, $\\Sigma$ is the diagonal entry matrix.\n",
    "\n",
    "\n",
    "\n",
    "\\begin{align}\n",
    "\\text{To find the } V, \\text{we note that } A^TA &= V\\Sigma U^{-1}U\\Sigma V^T \\\\\n",
    "& = V\\Sigma^2V^T \\\\\n",
    "&= V\\left[ \n",
    "\\begin{array}{ccc}\n",
    "\\sigma_1^2 &  & \\\\\n",
    "& \\sigma_2^2 &  \\\\\n",
    "& & ... \\\\\n",
    "& & \\sigma_n^2  \\\\\n",
    "\\end{array}\n",
    "\\right]V^T\n",
    "\\end{align}\n",
    "\n",
    "The eigenvectors of this matrix $A^TA$ will give us the vectors $\\mathbf{v}_i$, and the eigenvalues will give the numbers $\\sigma_i$. \n",
    "\n",
    "Similarly, the matrix $AA^T$ gives us info for $U$. Examples can be seen here [SVD examples](\n",
    "https://ocw.mit.edu/courses/mathematics/18-06sc-linear-algebra-fall-2011/positive-definite-matrices-and-applications/singular-value-decomposition/MIT18_06SCF11_Ses3.5sum.pdf#:~:text=The%20singular%20value%20decomposition%20of%20a%20matrix%20is,its%20eigenvectors%20are%20orthogonal%20and%20we%20can%20write)\n",
    "\n",
    "<div>\n",
    "<img src=\"./images/Screenshot%202022-02-04%20162022.jpg\" width=\"500\"/>\n",
    "</div>"
   ]
  },
  {
   "cell_type": "markdown",
   "id": "f3b6478c",
   "metadata": {},
   "source": [
    "\n"
   ]
  },
  {
   "cell_type": "markdown",
   "id": "c9da8d99",
   "metadata": {},
   "source": [
    "## Lecture 10\n",
    "___"
   ]
  },
  {
   "cell_type": "markdown",
   "id": "64c79da4",
   "metadata": {},
   "source": [
    "### PCA (principal component analysis)\n",
    "\n",
    "$\\overline{x} $ center data by subtraction the mean\n",
    "\n",
    "$\\frac{1}{N-1}XX^T$ is simply the empirical approximation to Cov(X) which henceforth we denote as $C_x$. $C_x$ is non-negative definite & Symmetric (NDS). Hence it has an eigen decomposition $C_x = Q\\Lambda Q^T$. The eigen-vectors of $C_x$ are called the principal components or the Rarhumen-Loere modes or PCA modes of $C_x$.\n",
    "\n",
    "At the same time write $X=U\\Sigma V^T$ then, \n",
    "\\begin{align}\n",
    "C_x=\\frac{1}{N-1}XX^T&=\\frac{1}{N-1}U\\Sigma V^TV\\Sigma U^T\\\\\n",
    "&=\\frac{1}{N-1}U\\Sigma^2U^T\n",
    "\\end{align}\n"
   ]
  },
  {
   "cell_type": "markdown",
   "id": "2bc08a61",
   "metadata": {},
   "source": [
    "Thus, columns of U,\\textbf{ the left singular vectors of X are precisely the Principal Components of} $C_x$\n",
    "\n",
    "But why do we care about the PCA?"
   ]
  },
  {
   "cell_type": "markdown",
   "id": "6a37c472",
   "metadata": {},
   "source": [
    "A random varibale is called Gaussian if its PDF has the form \n",
    "$$\\Pi(x)=\\frac{1}{\\sqrt{(2\\pi)^ddet(C)}}exp(-\\frac{1}{2}(x-m)^TC^{-1}(x-m))$$, where m is mean"
   ]
  },
  {
   "cell_type": "markdown",
   "id": "3c1c18c7",
   "metadata": {},
   "source": [
    "\\begin{lemma}\n",
    "Suppose $x \\sim \\mathcal{N}(m,C),m \\in \\mathbb{R}^d, C\\in \\mathbb{R}^{d\\times{d}}. \\text{ Let } b\\in \\mathbb{R}^n \\& A\\in \\mathbb{R}^{n\\times d} \\text{ then } z=Ax+b \\text{ is also Gaussian & } z\\in \\mathcal{N}(b+Am, ACA^T)  $\n",
    "\\end{lemma}\n",
    "\n",
    "PCA explains the covariance and directions of maximum singular values in our dataset. It is good for low-dimension compression. \n"
   ]
  },
  {
   "cell_type": "markdown",
   "id": "28596a1b",
   "metadata": {},
   "source": [
    "## Lecture 11\n",
    "___\n",
    "### From PCA & SVD to Proper Orthogonal Decomposition & Dynamic Mode Decoposition"
   ]
  },
  {
   "cell_type": "markdown",
   "id": "c95739b2",
   "metadata": {},
   "source": [
    "POD(proper orthogonal decomposition)\n",
    "\n",
    "$\\displaystyle f(x,t):=\\sum_{k=0}^{\\infty}c_k(t)\\psi_k(x)$\n",
    "\n",
    "In the context, $\\psi_k(x)$ are called the POD modes & $c_k(t)$ are called the POD coefficient. Luckily, there is an easy way to compute POD using SVD.\n",
    "\n",
    "Suppose dynamics of f(x,t) are observed over u discrete set, ie (x_j,t_k) ,j=0...N-1, k=0,...,T-1. Now put it into a matrix D:\n",
    "\n",
    "$$D:=\\begin{bmatrix} \n",
    "\\\\\n",
    "\td_0=f(x_j,t_0) \\;\\; | \\;\\; d_1=f(x_j,t_1) \\;\\; | \\;\\; ....\\;\\; |\\;\\; d_{T-1}=f(x_j,t_{T-1})\\\\\n",
    "    \\\\\n",
    "\t\\end{bmatrix}$$\n",
    "    \n",
    "Then, compute the SVD of D.\n",
    "\n",
    "$D=U\\Sigma V^T$, $U$ doesn't change even if the matrix is shuffled around, the direction of time is not important. Then the columns of $U$ are precisely the POD modes & the rows of $\\Sigma V^T$ are precisely the POD coefficients.\n",
    "\n",
    "\\textbf{ The power of this method is also important that it could be used to predict the future behavior based on the DMD}. Book:Data-Driven Science and Engineering by Steven\n",
    "\n"
   ]
  },
  {
   "cell_type": "code",
   "execution_count": null,
   "id": "221ad5e2",
   "metadata": {},
   "outputs": [],
   "source": [
    "#import numpy as np\n",
    "#import matplotlib.pyplot as plt\n",
    "#\n",
    "# first load frames of cylinder flow simulation\n",
    "#from google.colab import drive\n",
    "# drive.mount('/content/drive')\n",
    "#\n",
    "data = np.load(\n",
    "    \"/content/drive/MyDrive/Courses/AMATH482582-WIN2022/Notebooks/CylData/cyldata.npy\")\n",
    "Nx = 200\n",
    "Ny = 50"
   ]
  },
  {
   "cell_type": "code",
   "execution_count": null,
   "id": "c7f515bf",
   "metadata": {},
   "outputs": [],
   "source": [
    "# ax0 is the flattened frames and ax1 are the time frames\n",
    "\n",
    "# compute svd of data\n",
    "\n",
    "import numpy.matlib as matlib\n",
    "\n",
    "mean_data = np.mean(data, 1)\n",
    "\n",
    "centered_data = data - np.transpose(matlib.repmat(mean_data, 200, 1))\n",
    "\n",
    "dU, ds, dVt = np.linalg.svd(centered_data, full_matrices=False)"
   ]
  },
  {
   "cell_type": "code",
   "execution_count": null,
   "id": "af2f9c9b",
   "metadata": {},
   "outputs": [],
   "source": [
    "# plot some of the singular values and some of the principal modes\n",
    "\n",
    "\n",
    "fig, ax = plt.subplots(1, 1, figsize=(8, 8))\n",
    "\n",
    "ax.plot(np.log(ds[0:100]))\n",
    "ax.set_xlabel('index $j$')\n",
    "ax.set_ylabel('$\\log(\\sigma_j)$')\n",
    "#ax.set_xlim(0, 150)\n",
    "\n",
    "\n",
    "fig, ax = plt.subplots(8, 2, figsize=(20, 20))\n",
    "\n",
    "for j in range(8):\n",
    "\n",
    "    ax[j][0].imshow(np.reshape(dU[:, j], (Ny, Nx)), cmap='bwr')\n",
    "    ax[j][0].get_xaxis().set_visible(False)\n",
    "    ax[j][0].get_yaxis().set_visible(False)\n",
    "    ax[j][0].set_aspect('equal')\n",
    "\n",
    "    ax[j][1].plot(np.abs(dVt[j, :]))\n",
    "    ax[j][1].set_xlabel('Time step')\n",
    "\n",
    "    if j == 0:\n",
    "        ax[j][0].set_title('POD Modes', fontsize=30)\n",
    "        ax[j][1].set_title('|POD Coeff.|', fontsize=30)\n",
    "\n",
    "plt.show()"
   ]
  },
  {
   "cell_type": "code",
   "execution_count": null,
   "id": "3abaaa80",
   "metadata": {},
   "outputs": [],
   "source": [
    "# approximate the dynamics using the POD modes only keeping the first 40 and compare to original data.\n",
    "\n",
    "dss = np.copy(ds)\n",
    "\n",
    "dss[10:None] = 0\n",
    "\n",
    "# low rank approx\n",
    "approx_centered_data = np.dot(dU, np.dot(np.diag(dss), dVt))\n",
    "\n",
    "print(approx_centered_data.shape)\n",
    "\n",
    "# add the mean back\n",
    "approx_data = approx_centered_data + \\\n",
    "    np.transpose(matlib.repmat(mean_data, 200, 1))"
   ]
  },
  {
   "cell_type": "code",
   "execution_count": null,
   "id": "d7c51827",
   "metadata": {},
   "outputs": [],
   "source": [
    "# side by side comparison of original and approximate dynamics\n",
    "\n",
    "fig, ax = plt.subplots(4, 2, figsize=(20, 15))\n",
    "\n",
    "frm_indx = [10, 100, 150, 199]\n",
    "\n",
    "for j in range(4):\n",
    "\n",
    "    ax[j][0].imshow(np.reshape(data[:, frm_indx[j]], (Ny, Nx)), cmap='bwr')\n",
    "    ax[j][0].get_xaxis().set_visible(False)\n",
    "    ax[j][0].get_yaxis().set_visible(False)\n",
    "    ax[j][0].set_aspect('equal')\n",
    "\n",
    "    ax[j][1].imshow(np.reshape(\n",
    "        approx_data[:, frm_indx[j]], (Ny, Nx)), cmap='bwr')\n",
    "    ax[j][1].get_xaxis().set_visible(False)\n",
    "    ax[j][1].get_yaxis().set_visible(False)\n",
    "    ax[j][1].set_aspect('equal')\n",
    "\n",
    "    if j == 0:\n",
    "        ax[j][0].set_title('Original', fontsize=30)\n",
    "        ax[j][1].set_title('POD Approximation', fontsize=30)"
   ]
  },
  {
   "cell_type": "markdown",
   "id": "2ed748da",
   "metadata": {},
   "source": [
    "### DMD (Dynamic Modes Decomposition) - developed 2010s, some work done at UW:\n",
    "\n",
    "Look back to the POD, the POD modes are smooth & structured, the POD coefficients are rough & chaotic. This is because POD only sees spatial structure & ignores temporal dynamics. DMD attempts to address this issue by modeling the dynamics of the data:\n",
    "\n",
    "$$d_{k+1}=Ad_k$$\n",
    "$$f(x,t_{k+1}){\\leftarrow}A\\leftarrow f(x,t_k)$$\n",
    "\n",
    "Lets reconstruct our data as follows, one keeping the T-1 data from 0 to T-2, the other keeping the T-1 data from 1 to T-1.\n",
    "\n",
    "$$D_1:=\\begin{bmatrix} \n",
    "\\\\\n",
    "\td_0 \\;\\; | \\;\\; d_1\\;\\; | \\;\\; ....\\;\\; |\\;\\; d_{T-2}\\\\\n",
    "    \\\\\n",
    "\t\\end{bmatrix}$$\n",
    "\n",
    "$$D_2:=\\begin{bmatrix} \n",
    "\\\\\n",
    "\td_1 \\;\\; | \\;\\; d_2\\;\\; | \\;\\; ....\\;\\; |\\;\\; d_{T-1}\\\\\n",
    "    \\\\\n",
    "\t\\end{bmatrix}$$\n",
    "    \n",
    "Then DMD seeks to find a matrix $A$ such that \n",
    "$$D_2 \\approx AD_1 $$\n",
    "\n",
    "This approx is then done in a best-fit \n",
    "\n",
    "\n",
    "$$A=\\min_{B\\in \\mathbb{R}^{N\\times N},\\text{ rank(B)}\\le r}||BD_1-D_2||_F^2$$\n",
    "\n",
    "So what does DMD actually do?\n",
    "\n",
    "\\begin{align}\n",
    "d_k&=Ad_{k-1}=A(Ad_{k-2})=...\\\\\n",
    "d_k&=A^{k-1}d_0=Q\\Lambda^{k-1}Q^{-1}d_0 \\\\\n",
    "&=Q\\Lambda^{k-1}b=\\sum_{j=1}^rq_{j}\\lambda_{j}^{k-1}b_j\n",
    "\\end{align}"
   ]
  },
  {
   "cell_type": "code",
   "execution_count": null,
   "id": "ba5b6f51",
   "metadata": {},
   "outputs": [],
   "source": [
    "from pydmd import DMD"
   ]
  },
  {
   "cell_type": "code",
   "execution_count": null,
   "id": "41c2fd94",
   "metadata": {},
   "outputs": [],
   "source": [
    "# first we create a DMD object\n",
    "dmd = DMD(svd_rank=10)  # a rank 10 approximation to the dynamic matrix A\n",
    "\n",
    "# simply pass centered data set of snapshots to the dmd class\n",
    "dmd.fit(centered_data)\n",
    "\n",
    "dmd.plot_eigs(show_axes=True)"
   ]
  },
  {
   "cell_type": "code",
   "execution_count": null,
   "id": "3c3f3193",
   "metadata": {},
   "outputs": [],
   "source": [
    "# now plot the DMD modes and the temporal dynamics as we did for POD\n",
    "\n",
    "fig, ax = plt.subplots(8, 4, figsize=(30, 18))\n",
    "\n",
    "for j in range(8):\n",
    "\n",
    "    ax[j][0].imshow(np.reshape(np.real(dmd.modes[:, j]), (Ny, Nx)), cmap='bwr')\n",
    "    ax[j][0].get_xaxis().set_visible(False)\n",
    "    ax[j][0].get_yaxis().set_visible(False)\n",
    "    ax[j][0].set_aspect('equal')\n",
    "\n",
    "    ax[j][1].plot(np.real(dmd.dynamics[j, :]))\n",
    "    ax[j][1].set_xlabel('Time step')\n",
    "\n",
    "    ax[j][2].imshow(np.reshape(np.imag(dmd.modes[:, j]), (Ny, Nx)), cmap='bwr')\n",
    "    ax[j][2].get_xaxis().set_visible(False)\n",
    "    ax[j][2].get_yaxis().set_visible(False)\n",
    "    ax[j][2].set_aspect('equal')\n",
    "\n",
    "    ax[j][3].plot(np.imag(dmd.dynamics[j, :]))\n",
    "    ax[j][3].set_xlabel('Time step')\n",
    "\n",
    "    if j == 0:\n",
    "        ax[j][0].set_title('Real DMD Modes', fontsize=30)\n",
    "        ax[j][1].set_title('Real DMD Dynamics', fontsize=30)\n",
    "        ax[j][2].set_title('Imag DMD Modes', fontsize=30)\n",
    "        ax[j][3].set_title('Imag DMD Dynamics', fontsize=30)\n",
    "\n",
    "\n",
    "plt.show()"
   ]
  },
  {
   "cell_type": "markdown",
   "id": "54e1b773",
   "metadata": {},
   "source": [
    " ## Lecture 12\n",
    " ___\n",
    " ### Introduction to Machine Learning\n",
    " \n",
    " Book: The Elements of Statistical Learning by Hastie\n",
    " \n",
    " "
   ]
  },
  {
   "cell_type": "markdown",
   "id": "a4805bb4",
   "metadata": {},
   "source": [
    "\\textbf{Supervised Learning}: With labels.\n",
    "Predict/classify data given a training dataset. Eg: REgression, classification, function approximation, etc.\n",
    "\n",
    "\\textbf{Un-supervised Learning}:\n",
    "No labels.\n",
    "Find meaningful structure in dataset. Eg: Clustering, dimensionality reduction, Generation modeling.\n",
    "\n",
    "### Supervised Learning\n",
    "\n",
    "The function model assumes there exists a function\n",
    "$\\displaystyle f^+:X\\rightarrow y$ so that $y_j=f^+(x_j)+\\epsilon_j$, where $\\epsilon_j$ are some noise that may be in the output or our observation of the $f^+(x_j)$\n",
    "\n",
    "By far the most common assumption is Gaussian noise \n",
    "\n",
    "$$\\epsilon_j \\approx \\mathcal{N}(0,\\sigma^2)$$\n",
    "\n",
    "This implies $\\displaystyle y_i|x_j \\approx \\mathcal{N}(f^+(x_j),\\sigma^2)$ \n",
    "\n",
    "$$\\Pi(y_j|x_j)\\propto exp(-\\frac{1}{2\\sigma^2}|f^+(x_j)-y_j|^2)$$, $\\Pi$ is the PDF of $y$ for fixed $x_j$\n",
    "\n",
    "For Euclidern norm, this is called a maximum likelihood estimate (MLE):\n",
    "\n",
    "$$f_{MLE}=arg\\min_f \\frac{1}{2\\sigma^2}||f(X)-Y||^2$$\n",
    "\n",
    "At this moment, it is useless without a model, since there are many solutions. One of the most simple model is \\textbf{ linear regression}.\n",
    "\n",
    "$$f_{MLE}\\equiv\\beta_{MLE}=argmin \\frac{1}{2\\sigma^2}||A\\beta-Y||^2$$, where A=$\n",
    "\\left[\n",
    "\\begin{array}{ccc}\n",
    "1& & x_0^T \\\\\n",
    ".& & . \\\\\n",
    ".& & . \\\\\n",
    "1& & x_{N-1}^T\n",
    "\\end{array}\n",
    "\\right]\n",
    "$.\n",
    "\n",
    "Therefore, MLE is nothing but a least square solution to the problem. Typically, the system is over-determined. Solution is given by solving the normal equations,\n",
    "\n",
    "$$\\frac{\\partial}{\\partial\\beta}(\\frac{1}{2\\sigma^2}(A\\beta-y)^T(A\\beta-y))=\\frac{1}{\\sigma^2}A^T(A\\beta-y)=0$$\n",
    "\n",
    "\\begin{align}\\implies A^T(A\\beta-y)&=0\\\\\n",
    "\\beta&=(A^TA)^{-1}A^Ty\n",
    "\\end{align}\n",
    "\n"
   ]
  },
  {
   "cell_type": "markdown",
   "id": "5548eaa8",
   "metadata": {},
   "source": [
    "## Lecture 13\n",
    "___\n",
    "### Evaluating SL models\n",
    "\n",
    "\\textbf{ Regularization/penalization/shrinkage}:\n",
    "we consider $\\displaystyle \\hat{\\beta}=argmin \\frac{1}{2\\sigma^2}||A\\beta-y||^2+\\frac{\\lambda}{2}||\\beta||_p^p$\n",
    "\n",
    "$\\lambda\\ge 0$ is called the regularization/penalty parameter & $p \\ge 1$ denotes the choice. $p=2 $ for Ridge regression. \n",
    "\n",
    "$$\\beta=(\\frac{1}{\\sigma^2}A^TA+\\lambda I)^{-1}A^Ty$$\n",
    "\n",
    "So doing SVD of A,\n",
    "\n",
    "$$\\frac{1}{\\sigma^2}A^TA+\\lambda I=V(\\frac{1}{\\sigma^2}\\Sigma^2+ \\lambda I)V^T$$, the diagonals are non-negative, eliminating zeros so A matrix can be invertible.\n",
    "\n",
    "Again, the choice of $\\lambda$ is important for stability and accuracy.\n",
    "\n",
    "### Training & Testing Errors\n",
    "\n",
    "\\textbf{Training mean squared error (MSE)}\n",
    "\n",
    "${X,Y}$ - training set, used to find $\\hat{f}(\\equiv \\hat{\\beta})$\n",
    "\n",
    "${X',Y'}$ - testing set, used for validation.\n",
    "\n",
    "Analyzing the MSE doesn't mean which model is always better. It is still important for choice of $\\lambda$\n"
   ]
  },
  {
   "cell_type": "markdown",
   "id": "bbdf160c",
   "metadata": {},
   "source": [
    "## Lecture 14\n",
    "___\n",
    "\n",
    "### Model tuning with Cross Validation"
   ]
  },
  {
   "cell_type": "markdown",
   "id": "f1ad875b",
   "metadata": {},
   "source": [
    "$\\lambda$ too small, the model is basically memorizing all the train data. The test error is large. (over-fitting, high-variance)\n",
    "\n",
    "$\\lambda $ too large, model is too simply biased.()\n",
    "\n",
    "We want the best test error which is the smallest. However, in real life, we don't know the test error.\n",
    "\n",
    "\n",
    "\n",
    "\\textbf{Cross Validation}: Split the train data to k parts, or k-fold.\n",
    "\n",
    "Randomly permute the data pairs-- $\\mathbf{x}=\\{x_{10},x_{-1},...,x{_{13}}\\}$ and responding $\\mathbf{y}$. \n",
    "\n",
    "Then split the data $\\mathbf{x} \\,\\&\\, \\mathbf{y} $ into K-subsets. Iterate over $k=0,...k=K-1$ and fit the model to the training data with the k-th fold removed. \n",
    "\n",
    "Finally, calculate the CV prediction error (CV cost) with changing $\\lambda$\n",
    "\n",
    "$$CV(\\hat{f},\\lambda) := \\frac{1}{N}\\sum_{k=0}^{K-1}||\\hat{f}(\\mathbf{x}_k,\\lambda)-\\mathbf{y}_k||^2$$\n",
    "\n"
   ]
  },
  {
   "cell_type": "markdown",
   "id": "03ccc4cf",
   "metadata": {},
   "source": [
    "## Lecture 15\n",
    "___\n",
    "### Introduction to Kernel Methods\n",
    "\n",
    "\\textbf{Kernel NDS}: We say K is non-negative definite & symmetric (NDS) if \n",
    "\n",
    "\\begin{itemize}\n",
    "\\item $K(\\mathbf{x},\\mathbf{x'})=K(\\mathbf{x'},\\mathbf{x})$\n",
    "\\item For any set of points $(x_0,...x_n)$, the matrix \n",
    "$(K)_{ij}=K(x_i,x_j) $ is NDS.\n",
    "\\item $\\displaystyle K(\\mathbf{x},\\mathbf{x'})=\\sum_{j=0}^\\infty\\lambda_j\\psi_j(\\mathbf{x})\\psi_j(\\mathbf{x'}) \\text{, the number }\\lambda_j\\ge 0 $ are the eigenvalues, while the $\\psi_j$ are eigenfunctions.\n",
    "\n",
    "\\end{itemize}\n",
    "\n",
    "Mercer Theorem says if a matrix $A$ is NDS then $A=Q\\Lambda Q^{-1}$\n",
    "\n",
    "$$\\implies A=\\sum_j\\lambda_jq_jq_j^T$$\n",
    "\n",
    "Define the functions,\n",
    "\n",
    "$$F_j(x)=\\sqrt{\\lambda_j}\\psi_j(x)$$\n",
    "\n",
    "along with the mapping,\n",
    "\n",
    "$$F(\\mathbf{x})=(F_0(\\mathbf{x}),F_1(\\mathbf{x}),....)$$\n",
    "\n",
    "Functions in RKHS(Reproducing Kernel to Hilbert Space) have the nice properties:\n",
    "\n",
    "$\\displaystyle K (\\mathbf{x},\\mathbf{x'})=\\sum_j F_j(\\mathbf{x})F_j(\\mathbf{x'}) \\,\\&\\, \\text{ so, for a fixed }\\mathbf{x}$ we have that $\\displaystyle f(\\mathbf{x})=\\sum_j c_jF_j(\\mathbf{x})=(\\{c_j\\}_{j=0}^\\infty,\\{F_j(\\mathbf{x})\\}_{j=0}^\\infty)_{l^2}=<f,K(\\mathbf{x},)>_{H_k}$"
   ]
  },
  {
   "cell_type": "markdown",
   "id": "00157a9b",
   "metadata": {},
   "source": [
    "### Kernel Interpolation\n",
    "Suppose we have an interpolation problem, given x datapoints and y datapoints. we wish to find $\\displaystyle f=\\sum_{j=0}^\\infty c_jF_j$ so we need to solve $\\displaystyle \\sum_{j=0}^\\infty c_jF_j（x_i)=y_i, i=0,...,N-1$ We want the solution with minimized $H_k$ norm. Therefore, we wish to have \n",
    "\n",
    "$$minimize \\sum_{j=0}^\\infty c_j^2$$\n",
    "\n",
    "$$s.t \\sum_{j=0}^\\infty c_jF_j(x_i)=y_i$$\n",
    "\n",
    "What it reduces to is a solution of the form \n",
    "\n",
    "$$f(\\mathbf{x})=\\sum_{j=0}^{N-1}a_jK(\\mathbf{x_j},\\mathbf{x})$$\n",
    "\n",
    "The interpolation constraints then tell us that $\\displaystyle \\sum_{j=0}^{N-1}a_jK(\\mathbf{x}_j,\\mathbf{x}_i)=y_i$\n",
    "\n",
    "\\begin{align}\n",
    "\\quad\\quad\\quad\\quad\\quad\\quad\\quad\\quad \\mathbf{a}&=(a_0,....,a_{N-1})\\\\\n",
    "\\implies \\Theta \\mathbf{a}=\\mathbf{y},\\quad\\quad\\mathbf{y}&=(y_0,....y_{N-1}) \\\\\\quad\\quad \\Theta_{ji}&=K(\\mathbf{x}_j,\\mathbf{x}_i)\n",
    "\\end{align}\n",
    "\n",
    "Thus, $\\mathbf{a}=\\Theta^{-1}\\mathbf{y}$, now the matrix is invertible provided that it is NDS, and the $x_j$ are distinct."
   ]
  },
  {
   "cell_type": "code",
   "execution_count": 2,
   "id": "6a5a8ef9",
   "metadata": {},
   "outputs": [],
   "source": [
    "import numpy as np\n",
    "import matplotlib.pyplot as plt"
   ]
  },
  {
   "cell_type": "code",
   "execution_count": 3,
   "id": "ee1705be",
   "metadata": {},
   "outputs": [],
   "source": [
    "# define function to be interpolated \n",
    "\n",
    "def f(x):\n",
    "\n",
    "  val = np.exp( - x**2/0.05 )*np.cos(np.pi*20*x) + 0.5*np.tanh(5*(x - 0.5))\n",
    "\n",
    "  return val"
   ]
  },
  {
   "cell_type": "code",
   "execution_count": 4,
   "id": "3db11588",
   "metadata": {},
   "outputs": [
    {
     "data": {
      "text/plain": [
       "Text(0, 0.5, 'f(x)')"
      ]
     },
     "execution_count": 4,
     "metadata": {},
     "output_type": "execute_result"
    },
    {
     "data": {
      "image/png": "[encoded data removed]",
      "text/plain": [
       "<Figure size 720x576 with 1 Axes>"
      ]
     },
     "metadata": {
      "needs_background": "light"
     },
     "output_type": "display_data"
    }
   ],
   "source": [
    "N = 100\n",
    "N_p = 5\n",
    "\n",
    "x = np.linspace(0,1, N) # grid used for plotting  \n",
    "\n",
    "x_p = np.linspace(0,1, N_p) # set of points for interpolation\n",
    "\n",
    "# plot the function \n",
    "\n",
    "fig,ax = plt.subplots(1,1, figsize=(10,8))\n",
    "\n",
    "ax.plot(x, f(x))\n",
    "ax.scatter(x_p, f(x_p), color='r')\n",
    "ax.set_xlabel('x', fontsize=20)\n",
    "ax.set_ylabel('f(x)', fontsize=20)"
   ]
  },
  {
   "cell_type": "code",
   "execution_count": 5,
   "id": "73987e98",
   "metadata": {},
   "outputs": [
    {
     "data": {
      "text/plain": [
       "<matplotlib.legend.Legend at 0x7f0551cadac0>"
      ]
     },
     "execution_count": 5,
     "metadata": {},
     "output_type": "execute_result"
    },
    {
     "data": {
      "image/png": "[encoded data removed]",
      "text/plain": [
       "<Figure size 720x576 with 1 Axes>"
      ]
     },
     "metadata": {
      "needs_background": "light"
     },
     "output_type": "display_data"
    }
   ],
   "source": [
    "# define the kernel we wish to use \n",
    "# Gaussian Kernel\n",
    "\n",
    "def K(x1, x2, l):\n",
    "\n",
    "  val = np.exp( - (np.abs(x1 - x2)**2)/(l**2) )\n",
    "\n",
    "  return val\n",
    "\n",
    "\n",
    "# plot K(x, 0.5) for illustration \n",
    "\n",
    "l = [0.05, 0.1, 0.25]\n",
    "\n",
    "fig,ax = plt.subplots(1,1, figsize=(10,8))\n",
    "\n",
    "for i in range(3):\n",
    "  \n",
    "  ax.plot(x, K(x, 0.5, l[i]), label='l = '+str(l[i]))\n",
    "\n",
    "ax.set_xlabel('x', fontsize=20)\n",
    "ax.set_ylabel('K(x, 0.5)', fontsize=20)\n",
    "plt.legend(fontsize=20)"
   ]
  },
  {
   "cell_type": "code",
   "execution_count": 6,
   "id": "bbf16d43",
   "metadata": {
    "scrolled": false
   },
   "outputs": [
    {
     "data": {
      "text/plain": [
       "<matplotlib.legend.Legend at 0x7f0551c3de80>"
      ]
     },
     "execution_count": 6,
     "metadata": {},
     "output_type": "execute_result"
    },
    {
     "data": {
      "image/png": "[encoded data removed]",
      "text/plain": [
       "<Figure size 720x576 with 1 Axes>"
      ]
     },
     "metadata": {
      "needs_background": "light"
     },
     "output_type": "display_data"
    }
   ],
   "source": [
    "# compute kernel interpolands and plot them for each choice of l\n",
    "\n",
    "# construct y vector, just for uniform notation with notes\n",
    "y = f(x_p)\n",
    "\n",
    "Theta = np.zeros( (N_p, N_p) )\n",
    "\n",
    "fig,ax = plt.subplots(1,1, figsize=(10,8))\n",
    "\n",
    "ax.plot(x, f(x), label='f')\n",
    "\n",
    "for i in range(3):\n",
    "  # construct kernel matrix (maybe not the most efficient way but ok)\n",
    "  for j in range(N_p):\n",
    "    Theta[j,:] = K( x_p[j], x_p, l[i] )\n",
    "\n",
    "  # compute kernel interpolant \n",
    "\n",
    "  a = np.linalg.solve(Theta, y)\n",
    "\n",
    "  # plot the interpolant along with original function and interpolation data\n",
    "\n",
    "  KV = np.zeros( (N_p, N) )\n",
    "\n",
    "  for j in range(N_p):\n",
    "    KV[j, :] = K( x_p[j], x, l[i] )\n",
    "\n",
    "  f_interp = np.dot(a, KV)\n",
    "\n",
    "  ax.plot(x, f_interp, label='l = ' + str(l[i]))\n",
    "\n",
    "\n",
    "ax.scatter(x_p, y, color='r' )\n",
    "\n",
    "ax.set_xlabel('x', fontsize=20)\n",
    "plt.legend(fontsize=20)\n",
    "\n",
    "\n",
    "\n"
   ]
  },
  {
   "cell_type": "markdown",
   "id": "42511e17",
   "metadata": {},
   "source": [
    "## Lecture 16\n",
    "___\n",
    "### Kernel Ridge Regression \n",
    "\n",
    "Mercers Theorem:\n",
    "$$K(\\mathbf{x},\\mathbf{x'})=\\sum_{j=0}^\\infty F_j(\\mathbf{x})F_j(\\mathbf{x'})$$\n",
    ",where $F_j$ are the features of $K$, $F_j\\rightarrow 0 \\text{ as } j\\rightarrow \\infty$. This regression is capable of solving cases with infinite number of features but at the cost of constructing a finite $n\\times n$ matrix. \n",
    "\n",
    "\\textbf{Ridge Regression}: \n",
    "$$\\min_{\\beta}||A\\beta-y||^2+\\lambda||\\beta||^2$$\n",
    "\n",
    "where A is our feature matrix often of the form\n",
    "\n",
    "$$A=\\left[\\begin{array}{ccc}\n",
    "F_0(x_0) &F_0(x_1)&...\\\\\n",
    "F_0(x_1) & F_1(x_1)&...\\\\\n",
    ".. & .. \\\\\n",
    "F_0(x_{N-1}) &F_1(x_{N-1})&..\n",
    "\\end{array}\\right]$$\n",
    "\n",
    "while we see $||f||^2_{H_k}=\\sum_{j=0}^{J-1}\\beta_j^2=||\\beta||^2$\n",
    "\n",
    "\\textbf{Kernel Ridge Regression}:\n",
    "$$\\min_{f}||f(X)-Y||^2+\\lambda||f||_{H_k}^2$$\n",
    "\n",
    "\\textbf{Representer Theorem}:\n",
    "$$\\hat{f}(\\mathbf{x})=\\sum_{n=0}^{N-1}\\hat{a}_nK(\\mathbf{x}_n,\\mathbf{x})$$\n",
    "\n",
    ",with $\\hat{a}=(\\hat{a}_0,...,\\hat{a}_{N-1})$ being minimizer of \n",
    "$$minimize \\;||\\Theta\\mathbf{a}-Y||^2+\\lambda\\mathbf{a}^T\\Theta\\mathbf{a}$$\n",
    "\n",
    "The solution is found by differentiating it, and it is exactly $\\displaystyle \\mathbf{a}=(\\Theta+\\lambda I)^{-1}y$"
   ]
  },
  {
   "cell_type": "markdown",
   "id": "42e2be62",
   "metadata": {},
   "source": [
    "### Example: House Pricing in Taiwan\n",
    "\n",
    "Steps to do:\n",
    "\n",
    "\\begin{itemize}\n",
    "\\item Create corresponding train and test data.\n",
    "\\item Normalize the train and test data: (data-mean)/std\n",
    "\\item Choose and fit Kernel functions (example: \"rbf\"-Gaussian Kernel)\n",
    "\\item Create discrete $\\lambda \\text{ and } \\gamma $ parameters. \n",
    "\\item Double for-loop to calculate cross-validation scores (scoring=\"neg_mean_squared_error\") and store the scores. \n",
    "\\item Find the best score for choosing parameters\n",
    "\\item Predict\n",
    "\\end{itemize}\n"
   ]
  },
  {
   "cell_type": "markdown",
   "id": "8e31acbf",
   "metadata": {},
   "source": [
    "## Lecture 17\n",
    "___\n",
    "### Kernel Perspective vs. Feature Perspective\n",
    "\n",
    "FR: $minimize \\;||A\\beta-Y||^2+\\lambda||\\beta||^2$ \\\\\n",
    "\n",
    "KR: $minimize \\; ||\\Theta a-Y||^2 +\\lambda a^T\\Theta a$\n",
    "\n",
    "where $A_{ij}=F_j(x_i)$ matrix of feature values,\n",
    "$\\Theta_{ij}=K(x_i.x_j)$\n",
    "\n",
    "The size of computation is different in that, provided a large data set with data points far more than feature points, we might want to use FR because KR would generate a matrix of NXN dimension which costs too much.\n",
    "\n",
    "For KR, we have infinite many features and more freedom to choose.\n",
    "\n",
    "### Connecting Kernels to Fourier Series & Wavelets\n",
    "\n",
    "From discrete Fourier Series we note that $\\displaystyle f(t)=\\sum_{k=-N/2}^{N/2-1}\\hat{f}_kexp(ikt)$. We than identify a kernel called the \\textbf{ Dirichlet Kernel}:\n",
    "$$K(t,s)=\\sum_{k=-N/2}^{N/2-1}exp(ik(t-s))$$\n",
    "This gives the identity that \n",
    "\n",
    "$$\\int_0^{2\\pi}K(t,s)f(s)\\,ds=\\sum_{k=-N/2}^{N/2-1}\\hat{f}_kexp(ikt)$$\n",
    "\n",
    "Then, we also note that linear projection is not the only transformation, non-linear is also possible.\n",
    "\n"
   ]
  }
 ],
 "metadata": {
  "author": "",
  "kernelspec": {
   "display_name": "Python 3 (ipykernel)",
   "language": "python",
   "name": "python3"
  },
  "language_info": {
   "codemirror_mode": {
    "name": "ipython",
    "version": 3
   },
   "file_extension": ".py",
   "mimetype": "text/x-python",
   "name": "python",
   "nbconvert_exporter": "python",
   "pygments_lexer": "ipython3",
   "version": "3.8.8"
  },
  "latex_envs": {
   "LaTeX_envs_menu_present": true,
   "autoclose": true,
   "autocomplete": false,
   "bibliofile": "biblio.bib",
   "cite_by": "key",
   "current_citInitial": 1,
   "eqLabelWithNumbers": false,
   "eqNumInitial": 1,
   "hotkeys": {
    "equation": "Ctrl-E",
    "itemize": "Ctrl-I"
   },
   "labels_anchors": true,
   "latex_user_defs": false,
   "report_style_numbering": false,
   "user_envs_cfg": true
  },
  "toc": {
   "base_numbering": 1,
   "nav_menu": {},
   "number_sections": false,
   "sideBar": false,
   "skip_h1_title": false,
   "title_cell": "Table of Contents",
   "title_sidebar": "Contents",
   "toc_cell": false,
   "toc_position": {
    "height": "541.597px",
    "left": "42px",
    "top": "96px",
    "width": "239px"
   },
   "toc_section_display": true,
   "toc_window_display": true
  },
  "varInspector": {
   "cols": {
    "lenName": 16,
    "lenType": 16,
    "lenVar": 40
   },
   "kernels_config": {
    "python": {
     "delete_cmd_postfix": "",
     "delete_cmd_prefix": "del ",
     "library": "var_list.py",
     "varRefreshCmd": "print(var_dic_list())"
    },
    "r": {
     "delete_cmd_postfix": ") ",
     "delete_cmd_prefix": "rm(",
     "library": "var_list.r",
     "varRefreshCmd": "cat(var_dic_list()) "
    }
   },
   "types_to_exclude": [
    "module",
    "function",
    "builtin_function_or_method",
    "instance",
    "_Feature"
   ],
   "window_display": false
  }
 },
 "nbformat": 4,
 "nbformat_minor": 5
}
