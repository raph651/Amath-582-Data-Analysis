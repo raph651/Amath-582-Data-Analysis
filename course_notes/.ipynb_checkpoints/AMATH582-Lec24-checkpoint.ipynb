{
 "cells": [
  {
   "cell_type": "markdown",
   "metadata": {
    "id": "uPw_GwXUD_0_"
   },
   "source": [
    "Demo code for Lec 24. Model selection with Lasso on diabetes data set."
   ]
  },
  {
   "cell_type": "code",
   "execution_count": 11,
   "metadata": {
    "executionInfo": {
     "elapsed": 239,
     "status": "ok",
     "timestamp": 1644529251685,
     "user": {
      "displayName": "Bamdad Hosseini",
      "photoUrl": "https://lh3.googleusercontent.com/a-/AOh14GhwJbFKBBICkDJdVudgsTuWkkyr0jrw5PxmRvic=s64",
      "userId": "09527353465813384085"
     },
     "user_tz": 480
    },
    "id": "wSKJosgFEHrw"
   },
   "outputs": [],
   "source": [
    "import numpy as np \n",
    "import sklearn as skl\n",
    "import matplotlib.pyplot as plt\n",
    "\n",
    "from sklearn.preprocessing import StandardScaler\n",
    "from sklearn.model_selection import train_test_split\n",
    "from sklearn.linear_model import Lasso, LinearRegression, LassoCV\n",
    "from sklearn.metrics import mean_squared_error\n",
    "\n",
    "from sklearn.datasets import load_diabetes, load_breast_cancer\n",
    "\n",
    "X, Y = load_diabetes(return_X_y=True)\n",
    "\n",
    "feature_names = load_diabetes()['feature_names']\n",
    "\n",
    "print('features: ', feature_names)\n",
    "print('X: ', X)\n",
    "print('Y: ', Y)\n",
    "print(X.shape)\n",
    "print(Y.shape)"
   ]
  },
  {
   "cell_type": "code",
   "execution_count": 3,
   "metadata": {
    "executionInfo": {
     "elapsed": 38,
     "status": "ok",
     "timestamp": 1644528320570,
     "user": {
      "displayName": "Bamdad Hosseini",
      "photoUrl": "https://lh3.googleusercontent.com/a-/AOh14GhwJbFKBBICkDJdVudgsTuWkkyr0jrw5PxmRvic=s64",
      "userId": "09527353465813384085"
     },
     "user_tz": 480
    },
    "id": "eQ88Iq5WFBWC"
   },
   "outputs": [],
   "source": [
    "# Split data set into training and test sets\n",
    "\n",
    "X_train, X_test, Y_train, Y_test = train_test_split( X, Y, test_size=0.33, random_state= 42)\n",
    "\n",
    "X_scaler = StandardScaler()\n",
    "X_scaler.fit(X_train)\n",
    "\n",
    "X_train_s = X_scaler.transform(X_train)\n",
    "X_test_s = X_scaler.transform(X_test)"
   ]
  },
  {
   "cell_type": "code",
   "execution_count": 4,
   "metadata": {
    "colab": {
     "base_uri": "https://localhost:8080/",
     "height": 493
    },
    "executionInfo": {
     "elapsed": 659,
     "status": "ok",
     "timestamp": 1644528321197,
     "user": {
      "displayName": "Bamdad Hosseini",
      "photoUrl": "https://lh3.googleusercontent.com/a-/AOh14GhwJbFKBBICkDJdVudgsTuWkkyr0jrw5PxmRvic=s64",
      "userId": "09527353465813384085"
     },
     "user_tz": 480
    },
    "id": "cYYxIWa5GYEk",
    "outputId": "921c58c3-0697-4b5b-b23c-0726e5ccb346"
   },
   "outputs": [
    {
     "name": "stdout",
     "output_type": "stream",
     "text": [
      "Lasso MSE:  2812.1689239184734\n",
      "Linear MSE:  2817.8015701686777\n",
      "['age', 'sex', 'bmi', 'bp', 's1', 's2', 's3', 's4', 's5', 's6']\n"
     ]
    },
    {
     "data": {
      "image/png": "[encoded data removed]",
      "text/plain": [
       "<Figure size 590.4x432 with 2 Axes>"
      ]
     },
     "metadata": {
      "needs_background": "light"
     },
     "output_type": "display_data"
    }
   ],
   "source": [
    "lmbd = 1.2\n",
    "\n",
    "diabetes_lasso = Lasso(alpha = lmbd)\n",
    "\n",
    "diabetes_lasso.fit( X_train_s, Y_train)\n",
    "\n",
    "diabetes_linear = LinearRegression()\n",
    "\n",
    "diabetes_linear.fit(X_train_s, Y_train)\n",
    "\n",
    "# bar plot the lasso and linear reg coefficients (not including intercepts)\n",
    "\n",
    "fig, ax = plt.subplots(2, 1, figsize=(8.2, 6))\n",
    "\n",
    "ax[1].bar( np.arange(0,10),  diabetes_lasso.coef_ )\n",
    "ax[1].set_xlabel('index j')\n",
    "ax[1].set_ylabel('b_j')\n",
    "ax[1].set_title('Lasso coef.')\n",
    "\n",
    "ax[0].bar( np.arange(0,10), diabetes_linear.coef_ )\n",
    "ax[0].set_xlabel('index j')\n",
    "ax[0].set_ylabel('b_j')\n",
    "ax[0].set_title('Regression coef.')\n",
    "\n",
    "fig.tight_layout()\n",
    "\n",
    "# compute test MSE for both models \n",
    "\n",
    "lasso_MSE = mean_squared_error( Y_test, diabetes_lasso.predict(X_test_s) )\n",
    "linear_MSE = mean_squared_error( Y_test, diabetes_linear.predict(X_test_s) )\n",
    "\n",
    "print('Lasso MSE: ', lasso_MSE)\n",
    "print('Linear MSE: ', linear_MSE)\n",
    "\n",
    "print(feature_names)"
   ]
  },
  {
   "cell_type": "code",
   "execution_count": 5,
   "metadata": {
    "colab": {
     "base_uri": "https://localhost:8080/"
    },
    "executionInfo": {
     "elapsed": 266,
     "status": "ok",
     "timestamp": 1644528321436,
     "user": {
      "displayName": "Bamdad Hosseini",
      "photoUrl": "https://lh3.googleusercontent.com/a-/AOh14GhwJbFKBBICkDJdVudgsTuWkkyr0jrw5PxmRvic=s64",
      "userId": "09527353465813384085"
     },
     "user_tz": 480
    },
    "id": "2eNpKaoMIpym",
    "outputId": "1e4ca8e8-7be9-4cad-f7e4-b506cf9fe7f3"
   },
   "outputs": [
    {
     "name": "stdout",
     "output_type": "stream",
     "text": [
      "1.1315789473684212\n"
     ]
    }
   ],
   "source": [
    "# repeat lasso with CV \n",
    "\n",
    "diabetes_lassoCV = LassoCV( alphas = np.linspace(0.1, 5, 20), cv= 20 )\n",
    "\n",
    "diabetes_lassoCV.fit(X_train_s, Y_train)\n",
    "\n",
    "print(diabetes_lassoCV.alpha_)"
   ]
  },
  {
   "cell_type": "code",
   "execution_count": 6,
   "metadata": {
    "colab": {
     "base_uri": "https://localhost:8080/",
     "height": 493
    },
    "executionInfo": {
     "elapsed": 511,
     "status": "ok",
     "timestamp": 1644528321941,
     "user": {
      "displayName": "Bamdad Hosseini",
      "photoUrl": "https://lh3.googleusercontent.com/a-/AOh14GhwJbFKBBICkDJdVudgsTuWkkyr0jrw5PxmRvic=s64",
      "userId": "09527353465813384085"
     },
     "user_tz": 480
    },
    "id": "iqhZdlogNxxB",
    "outputId": "e39726f3-43cc-471c-8b30-761786284cc0"
   },
   "outputs": [
    {
     "name": "stdout",
     "output_type": "stream",
     "text": [
      "Lasso MSE:  2812.796263648452\n",
      "Linear MSE:  2817.8015701686777\n",
      "['age', 'sex', 'bmi', 'bp', 's1', 's2', 's3', 's4', 's5', 's6']\n"
     ]
    },
    {
     "data": {
      "image/png": "[encoded data removed]",
      "text/plain": [
       "<Figure size 590.4x432 with 2 Axes>"
      ]
     },
     "metadata": {
      "needs_background": "light"
     },
     "output_type": "display_data"
    }
   ],
   "source": [
    "# bar plot the lasso and linear reg coefficients (not including intercepts)\n",
    "\n",
    "fig, ax = plt.subplots(2, 1, figsize=(8.2, 6))\n",
    "\n",
    "ax[1].bar( np.arange(0,10),  diabetes_lassoCV.coef_ )\n",
    "ax[1].set_xlabel('index j')\n",
    "ax[1].set_ylabel('b_j')\n",
    "ax[1].set_title('Lasso coef.')\n",
    "\n",
    "ax[0].bar( np.arange(0,10), diabetes_linear.coef_ )\n",
    "ax[0].set_xlabel('index j')\n",
    "ax[0].set_ylabel('b_j')\n",
    "ax[0].set_title('Regression coef.')\n",
    "\n",
    "fig.tight_layout()\n",
    "\n",
    "lassoCV_MSE = mean_squared_error( Y_test, diabetes_lassoCV.predict(X_test_s) )\n",
    "\n",
    "print('Lasso MSE: ', lassoCV_MSE)\n",
    "print('Linear MSE: ', linear_MSE)\n",
    "\n",
    "print(feature_names)"
   ]
  },
  {
   "cell_type": "code",
   "execution_count": 7,
   "metadata": {
    "colab": {
     "base_uri": "https://localhost:8080/"
    },
    "executionInfo": {
     "elapsed": 24,
     "status": "ok",
     "timestamp": 1644528321943,
     "user": {
      "displayName": "Bamdad Hosseini",
      "photoUrl": "https://lh3.googleusercontent.com/a-/AOh14GhwJbFKBBICkDJdVudgsTuWkkyr0jrw5PxmRvic=s64",
      "userId": "09527353465813384085"
     },
     "user_tz": 480
    },
    "id": "g_c_WEDIOUfR",
    "outputId": "89abb5a7-8598-4bb3-d46c-13106561507f"
   },
   "outputs": [
    {
     "name": "stdout",
     "output_type": "stream",
     "text": [
      "[ 0.23034532  9.12140468 26.91925512 18.1047688   5.56576932  0.\n",
      " 12.32976343  0.         19.5820362   0.        ]\n"
     ]
    }
   ],
   "source": [
    "# so features 5, 7 and 9 are discarded by Lasso \n",
    "# these are 's1', 's4', and 's6' \n",
    "\n",
    "print( np.abs(diabetes_lassoCV.coef_))\n",
    "\n",
    "# WARNING: this is an instance of the use of Lasso for model selection (ie identifying important parameters in the dataset)\n",
    "# the importance of different parameters can change significantly between different data sets so one should be careful about \n",
    "# drawing conclusions from a given data set. "
   ]
  },
  {
   "cell_type": "code",
   "execution_count": 14,
   "metadata": {
    "colab": {
     "base_uri": "https://localhost:8080/"
    },
    "executionInfo": {
     "elapsed": 195,
     "status": "ok",
     "timestamp": 1644529329107,
     "user": {
      "displayName": "Bamdad Hosseini",
      "photoUrl": "https://lh3.googleusercontent.com/a-/AOh14GhwJbFKBBICkDJdVudgsTuWkkyr0jrw5PxmRvic=s64",
      "userId": "09527353465813384085"
     },
     "user_tz": 480
    },
    "id": "kved4ovxPLjT",
    "outputId": "96248b3b-ae70-4d69-ad7a-9fb05ecf4af0"
   },
   "outputs": [
    {
     "name": "stdout",
     "output_type": "stream",
     "text": [
      "features:  ['mean radius' 'mean texture' 'mean perimeter' 'mean area'\n",
      " 'mean smoothness' 'mean compactness' 'mean concavity'\n",
      " 'mean concave points' 'mean symmetry' 'mean fractal dimension'\n",
      " 'radius error' 'texture error' 'perimeter error' 'area error'\n",
      " 'smoothness error' 'compactness error' 'concavity error'\n",
      " 'concave points error' 'symmetry error' 'fractal dimension error'\n",
      " 'worst radius' 'worst texture' 'worst perimeter' 'worst area'\n",
      " 'worst smoothness' 'worst compactness' 'worst concavity'\n",
      " 'worst concave points' 'worst symmetry' 'worst fractal dimension']\n",
      "X_b:  [[1.799e+01 1.038e+01 1.228e+02 ... 2.654e-01 4.601e-01 1.189e-01]\n",
      " [2.057e+01 1.777e+01 1.329e+02 ... 1.860e-01 2.750e-01 8.902e-02]\n",
      " [1.969e+01 2.125e+01 1.300e+02 ... 2.430e-01 3.613e-01 8.758e-02]\n",
      " ...\n",
      " [1.660e+01 2.808e+01 1.083e+02 ... 1.418e-01 2.218e-01 7.820e-02]\n",
      " [2.060e+01 2.933e+01 1.401e+02 ... 2.650e-01 4.087e-01 1.240e-01]\n",
      " [7.760e+00 2.454e+01 4.792e+01 ... 0.000e+00 2.871e-01 7.039e-02]]\n",
      "Y_b:  [0 0 0 0 0 0 0 0 0 0 0 0 0 0 0 0 0 0 0 1 1 1 0 0 0 0 0 0 0 0 0 0 0 0 0 0 0\n",
      " 1 0 0 0 0 0 0 0 0 1 0 1 1 1 1 1 0 0 1 0 0 1 1 1 1 0 1 0 0 1 1 1 1 0 1 0 0\n",
      " 1 0 1 0 0 1 1 1 0 0 1 0 0 0 1 1 1 0 1 1 0 0 1 1 1 0 0 1 1 1 1 0 1 1 0 1 1\n",
      " 1 1 1 1 1 1 0 0 0 1 0 0 1 1 1 0 0 1 0 1 0 0 1 0 0 1 1 0 1 1 0 1 1 1 1 0 1\n",
      " 1 1 1 1 1 1 1 1 0 1 1 1 1 0 0 1 0 1 1 0 0 1 1 0 0 1 1 1 1 0 1 1 0 0 0 1 0\n",
      " 1 0 1 1 1 0 1 1 0 0 1 0 0 0 0 1 0 0 0 1 0 1 0 1 1 0 1 0 0 0 0 1 1 0 0 1 1\n",
      " 1 0 1 1 1 1 1 0 0 1 1 0 1 1 0 0 1 0 1 1 1 1 0 1 1 1 1 1 0 1 0 0 0 0 0 0 0\n",
      " 0 0 0 0 0 0 0 1 1 1 1 1 1 0 1 0 1 1 0 1 1 0 1 0 0 1 1 1 1 1 1 1 1 1 1 1 1\n",
      " 1 0 1 1 0 1 0 1 1 1 1 1 1 1 1 1 1 1 1 1 1 0 1 1 1 0 1 0 1 1 1 1 0 0 0 1 1\n",
      " 1 1 0 1 0 1 0 1 1 1 0 1 1 1 1 1 1 1 0 0 0 1 1 1 1 1 1 1 1 1 1 1 0 0 1 0 0\n",
      " 0 1 0 0 1 1 1 1 1 0 1 1 1 1 1 0 1 1 1 0 1 1 0 0 1 1 1 1 1 1 0 1 1 1 1 1 1\n",
      " 1 0 1 1 1 1 1 0 1 1 0 1 1 1 1 1 1 1 1 1 1 1 1 0 1 0 0 1 0 1 1 1 1 1 0 1 1\n",
      " 0 1 0 1 1 0 1 0 1 1 1 1 1 1 1 1 0 0 1 1 1 1 1 1 0 1 1 1 1 1 1 1 1 1 1 0 1\n",
      " 1 1 1 1 1 1 0 1 0 1 1 0 1 1 1 1 1 0 0 1 0 1 0 1 1 1 1 1 0 1 1 0 1 0 1 0 0\n",
      " 1 1 1 0 1 1 1 1 1 1 1 1 1 1 1 0 1 0 0 1 1 1 1 1 1 1 1 1 1 1 1 1 1 1 1 1 1\n",
      " 1 1 1 1 1 1 1 0 0 0 0 0 0 1]\n",
      "(569, 30)\n",
      "(569,)\n"
     ]
    }
   ],
   "source": [
    "# similar computations for a larger data set with many attributes\n",
    "\n",
    "X_b, Y_b = load_breast_cancer(return_X_y=True)\n",
    "\n",
    "feature_names_b = load_breast_cancer()['feature_names']\n",
    "\n",
    "print('features: ', feature_names_b)\n",
    "print('X_b: ', X_b)\n",
    "print('Y_b: ', Y_b)\n",
    "print(X_b.shape)\n",
    "print(Y_b.shape)"
   ]
  },
  {
   "cell_type": "code",
   "execution_count": 15,
   "metadata": {
    "executionInfo": {
     "elapsed": 178,
     "status": "ok",
     "timestamp": 1644529446079,
     "user": {
      "displayName": "Bamdad Hosseini",
      "photoUrl": "https://lh3.googleusercontent.com/a-/AOh14GhwJbFKBBICkDJdVudgsTuWkkyr0jrw5PxmRvic=s64",
      "userId": "09527353465813384085"
     },
     "user_tz": 480
    },
    "id": "8d0HG7E4lCqc"
   },
   "outputs": [],
   "source": [
    "# preprocessing\n",
    "\n",
    "X_train_b, X_test_b, Y_train_b, Y_test_b = train_test_split( X_b, Y_b, test_size=0.33, random_state= 42)\n",
    "\n",
    "X_b_scaler = StandardScaler()\n",
    "X_b_scaler.fit(X_train_b)\n",
    "\n",
    "X_train_bs = X_b_scaler.transform(X_train_b)\n",
    "X_test_bs = X_b_scaler.transform(X_test_b)\n",
    "\n",
    "# I also like to shift the output so we have +1, -1 for classes\n",
    "Y_train_bs = 2*Y_train_b - 1\n",
    "Y_test_bs = 2*Y_test_b - 1\n",
    "\n"
   ]
  },
  {
   "cell_type": "code",
   "execution_count": 43,
   "metadata": {
    "colab": {
     "base_uri": "https://localhost:8080/"
    },
    "executionInfo": {
     "elapsed": 2181,
     "status": "ok",
     "timestamp": 1644529858731,
     "user": {
      "displayName": "Bamdad Hosseini",
      "photoUrl": "https://lh3.googleusercontent.com/a-/AOh14GhwJbFKBBICkDJdVudgsTuWkkyr0jrw5PxmRvic=s64",
      "userId": "09527353465813384085"
     },
     "user_tz": 480
    },
    "id": "AXmqU0Dpl-p8",
    "outputId": "5116e623-a27a-454e-e59f-ed2ae87cc074"
   },
   "outputs": [
    {
     "name": "stdout",
     "output_type": "stream",
     "text": [
      "lmbd CV:  0.002565051282051282\n",
      "beta_vec:  [0.         0.         0.         0.         0.01230655 0.35902753\n",
      " 0.         0.42441564 0.01599696 0.         0.29909792 0.04693801\n",
      " 0.         0.19484499 0.10535973 0.00842905 0.20248133 0.11918836\n",
      " 0.00827916 0.         0.76545945 0.15378721 0.         0.55723685\n",
      " 0.         0.07946529 0.33071709 0.01494566 0.1117852  0.04184508]\n"
     ]
    }
   ],
   "source": [
    "# repeat lasso with CV \n",
    "\n",
    "bc_lassoCV = LassoCV( alphas = np.linspace(1e-6, 0.05, 40), cv= 10, max_iter = 50000 )\n",
    "\n",
    "bc_lassoCV.fit(X_train_bs, Y_train_bs)\n",
    "\n",
    "print('lmbd CV: ',bc_lassoCV.alpha_)\n",
    "\n",
    "print('beta_vec: ',np.abs(bc_lassoCV.coef_))"
   ]
  },
  {
   "cell_type": "code",
   "execution_count": 46,
   "metadata": {
    "colab": {
     "base_uri": "https://localhost:8080/",
     "height": 421
    },
    "executionInfo": {
     "elapsed": 719,
     "status": "ok",
     "timestamp": 1644529914700,
     "user": {
      "displayName": "Bamdad Hosseini",
      "photoUrl": "https://lh3.googleusercontent.com/a-/AOh14GhwJbFKBBICkDJdVudgsTuWkkyr0jrw5PxmRvic=s64",
      "userId": "09527353465813384085"
     },
     "user_tz": 480
    },
    "id": "U-62q2qRmJm8",
    "outputId": "015cb5db-5901-4555-fd25-af4d1f09af14"
   },
   "outputs": [
    {
     "data": {
      "text/plain": [
       "Text(0.5, 1.0, '|Lasso coef.| for BC data set')"
      ]
     },
     "execution_count": 46,
     "metadata": {},
     "output_type": "execute_result"
    },
    {
     "data": {
      "image/png": "[encoded data removed]",
      "text/plain": [
       "<Figure size 590.4x432 with 1 Axes>"
      ]
     },
     "metadata": {
      "needs_background": "light"
     },
     "output_type": "display_data"
    }
   ],
   "source": [
    "fig, ax = plt.subplots(1, 1, figsize=(8.2, 6))\n",
    "\n",
    "ax.bar( np.arange(0,30), np.abs( bc_lassoCV.coef_) )\n",
    "ax.set_xlabel('index j')\n",
    "ax.set_ylabel('|b_j|')\n",
    "ax.set_title('|Lasso coef.| for BC data set')"
   ]
  }
 ],
 "metadata": {
  "colab": {
   "authorship_tag": "ABX9TyP0j/8Zb4hdpsP29j6OVPOk",
   "name": "AMATH582-Lec24.ipynb",
   "provenance": []
  },
  "kernelspec": {
   "display_name": "Python 3 (ipykernel)",
   "language": "python",
   "name": "python3"
  },
  "language_info": {
   "codemirror_mode": {
    "name": "ipython",
    "version": 3
   },
   "file_extension": ".py",
   "mimetype": "text/x-python",
   "name": "python",
   "nbconvert_exporter": "python",
   "pygments_lexer": "ipython3",
   "version": "3.8.8"
  },
  "latex_envs": {
   "LaTeX_envs_menu_present": true,
   "autoclose": true,
   "autocomplete": false,
   "bibliofile": "biblio.bib",
   "cite_by": "apalike",
   "current_citInitial": 1,
   "eqLabelWithNumbers": false,
   "eqNumInitial": 1,
   "hotkeys": {
    "equation": "Ctrl-E",
    "itemize": "Ctrl-I"
   },
   "labels_anchors": false,
   "latex_user_defs": false,
   "report_style_numbering": false,
   "user_envs_cfg": false
  },
  "toc": {
   "base_numbering": 1,
   "nav_menu": {},
   "number_sections": true,
   "sideBar": true,
   "skip_h1_title": false,
   "title_cell": "Table of Contents",
   "title_sidebar": "Contents",
   "toc_cell": false,
   "toc_position": {},
   "toc_section_display": true,
   "toc_window_display": false
  },
  "varInspector": {
   "cols": {
    "lenName": 16,
    "lenType": 16,
    "lenVar": 40
   },
   "kernels_config": {
    "python": {
     "delete_cmd_postfix": "",
     "delete_cmd_prefix": "del ",
     "library": "var_list.py",
     "varRefreshCmd": "print(var_dic_list())"
    },
    "r": {
     "delete_cmd_postfix": ") ",
     "delete_cmd_prefix": "rm(",
     "library": "var_list.r",
     "varRefreshCmd": "cat(var_dic_list()) "
    }
   },
   "types_to_exclude": [
    "module",
    "function",
    "builtin_function_or_method",
    "instance",
    "_Feature"
   ],
   "window_display": false
  }
 },
 "nbformat": 4,
 "nbformat_minor": 1
}
