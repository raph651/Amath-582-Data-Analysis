{
 "cells": [
  {
   "cell_type": "markdown",
   "id": "77ca48f3",
   "metadata": {},
   "source": [
    "# Amath 582 Computational Methods for Data Analysis Winter 2022"
   ]
  },
  {
   "cell_type": "markdown",
   "id": "5c6f7227",
   "metadata": {},
   "source": [
    "## Lecture 1\n",
    "> Introduction to the course "
   ]
  },
  {
   "cell_type": "markdown",
   "id": "e559eb10",
   "metadata": {},
   "source": [
    "### Homework Instructions"
   ]
  },
  {
   "cell_type": "markdown",
   "id": "c35b01af",
   "metadata": {},
   "source": [
    "\\begin{itemize}\n",
    "\\item Title/author/abstract\n",
    "\\item Sec.1 Introduction and Overview\n",
    "\\item Sec.2 Theoretical Background\n",
    "\\item Sec.3 Algorithm Implementation and Development\n",
    "\\item Sec.4 Computational Results\n",
    "\\item Sec.5 Summary and Conclusions\n",
    "\\item Acknowledgment \n",
    "\n",
    "<br><br>\n",
    "Jupyter notebook, LaTex preferred\n",
    "\n",
    "\\end{itemize}\n"
   ]
  },
  {
   "cell_type": "markdown",
   "id": "36ea2307",
   "metadata": {},
   "source": [
    "### Review of Basic Concepts from Stats & Probability"
   ]
  },
  {
   "cell_type": "markdown",
   "id": "94dc8eeb",
   "metadata": {},
   "source": [
    "\\begin{itemize}\n",
    "\\item $P(X=x_j)=P_j$<br> \n",
    "$X:\\Omega \\quad\\rightarrow \\quad${$x_1,x_2,...,x_n$}\n",
    "\n",
    "\n",
    "<br><br>\n",
    "$\\mathbb{E}(X):=\\sum_{j=1}^n P_j x_j\\\\$\n",
    "$Var(X):=E([x-E(x)]^2).$\n",
    "\n",
    "\\item $\\sigma:\\mathbb{R^d} \\rightarrow \\mathbb{R}$ is a probability density function (pdf) for the r.v. $X$  \n",
    "\n",
    "$P(X\\in A)=\\int_{\\mathbb{R^d}}\\sigma (x)\\,dx,$ for any open set $A \\subseteq\\mathbb{R^d}$\n",
    "\n",
    "$\\mathbb{E}(X):=\\int_{\\mathbb{R^d}}x\\sigma (x)\\, dx) \\\\$ \n",
    "$Cov(X):=\\int_{\\mathbb{R^d}}(x-\\mathbb{E}(X))\\sigma (x)\\\\,dx \\equiv Var(X)$\n",
    "\n",
    "\\item independent events: given sets $A,B \\subset \\mathbb{R^d}$ we have\n",
    "$$P(X\\in A \\;and\\; Y\\in B)=P(X\\in A)P(Y \\in B)$$ examples, flip two coins.<br>\n",
    "If two events are independent, then \n",
    "$$\\mathbb{E}(X^TY)=\\mathbb{E}(X)^T\\mathbb{E}(Y)$$\n",
    "\n",
    "\\begin{align}\n",
    "Cov(X,Y):& =\\mathbb{E}[(X-\\mathbb{E}(X))(Y-\\mathbb{E}(Y))^T]\\\\\n",
    "& =\\mathbb{E}[XY^T-\\mathbb{E}(X)Y^T-X\\mathbb{E}(Y)^T+\\mathbb{E}(X)\\mathbb{E}(Y)^T]\\\\\n",
    "& = \\mathbb{E}(XY^T)-2\\mathbb{E}(X)\\mathbb{E}(Y)^T+\\mathbb{E}(X)\\mathbb{E}(Y)^T\\\\\n",
    "& = \\mathbb{E}(XY^T)-\\mathbb{E}(X)\\mathbb{E}(Y)^T\n",
    "\\end{align}\n",
    "\n",
    "if two events are independent, $Cov(X,Y)=0$ (the inverse isn't true)\n",
    "\n",
    "\\end{itemize}\n"
   ]
  },
  {
   "cell_type": "markdown",
   "id": "ef2424be",
   "metadata": {},
   "source": [
    "## Lecture 2 \n",
    " \n",
    ">Signal Processing with Discrete Fourier Transform"
   ]
  },
  {
   "cell_type": "markdown",
   "id": "678d2e44",
   "metadata": {},
   "source": [
    "### Fourier Transform on real line:\n"
   ]
  },
  {
   "cell_type": "markdown",
   "id": "61b1a40f",
   "metadata": {},
   "source": [
    "\n",
    "Given $f:\\mathbb{R} \\quad \\rightarrow \\quad \\mathbb{R}$ we define its Fourier Transform \n",
    "\n",
    "$$\\mathcal{F}(f)\\equiv \\hat{f}(k):=\\frac{1}{\\sqrt{2\\pi}}\\int_{-\\infty}^\\infty f(x)e^{-ikx}\\,dx$$\n",
    "& inverse FT for $g: \\mathbb{R} \\quad \\rightarrow \\quad \\mathbb{C} $\n",
    "\n",
    "$$\\mathcal{F}^{-1}(g)\\equiv \\hat{g}(x):=\\frac{1}{\\sqrt{2\\pi}}\\int_{-\\infty}^\\infty g(k)e^{ikx}\\,dk$$\n",
    "\n",
    "The fact that $\\mathcal{F}^{-1}(\\mathcal{F}(f))=f$ is a consequence of the Fourier integral theorem. "
   ]
  },
  {
   "cell_type": "markdown",
   "id": "dc78f982",
   "metadata": {},
   "source": [
    "### FT Properties"
   ]
  },
  {
   "cell_type": "markdown",
   "id": "c02a30f8",
   "metadata": {},
   "source": [
    "\\begin{itemize}\n",
    "\\item Linearity\n",
    "\\item Shifts/Translations $(\\widehat{f(x-x_0)})_k=e^{-ikx_0}\\hat{f}_k$\n",
    "\\item Differentiation:\n",
    "$(\\widehat{f^{(n)}})_k=(ik)^n\\hat{f}_k$\n",
    "\\item Integration:\n",
    "$\\int_0^{2\\pi}f(x)\\,dx=\\hat{f}_0$\n",
    "\\item Convolution: $f,g$ periodic on $[0,2\\pi]$\n",
    "$(f\\ast g)(x):=\\int_0^{2\\pi}f(x-y)g(y)\\,dy\\\\$\n",
    "$(\\widehat{f\\ast g})_k=2\\pi \\hat{f}_k\\hat{g}_k$\n",
    "\\end{itemize}\n"
   ]
  },
  {
   "cell_type": "markdown",
   "id": "30795cb5",
   "metadata": {},
   "source": []
  }
 ],
 "metadata": {
  "kernelspec": {
   "display_name": "Python 3",
   "language": "python",
   "name": "python3"
  },
  "language_info": {
   "codemirror_mode": {
    "name": "ipython",
    "version": 3
   },
   "file_extension": ".py",
   "mimetype": "text/x-python",
   "name": "python",
   "nbconvert_exporter": "python",
   "pygments_lexer": "ipython3",
   "version": "3.8.8"
  },
  "latex_envs": {
   "LaTeX_envs_menu_present": true,
   "autoclose": true,
   "autocomplete": true,
   "bibliofile": "biblio.bib",
   "cite_by": "apalike",
   "current_citInitial": 1,
   "eqLabelWithNumbers": false,
   "eqNumInitial": 1,
   "hotkeys": {
    "equation": "Ctrl-E",
    "itemize": "Ctrl-I"
   },
   "labels_anchors": true,
   "latex_user_defs": false,
   "report_style_numbering": false,
   "user_envs_cfg": true
  },
  "toc": {
   "base_numbering": 1,
   "nav_menu": {},
   "number_sections": false,
   "sideBar": true,
   "skip_h1_title": false,
   "title_cell": "Table of Contents",
   "title_sidebar": "Contents",
   "toc_cell": false,
   "toc_position": {},
   "toc_section_display": true,
   "toc_window_display": false
  }
 },
 "nbformat": 4,
 "nbformat_minor": 5
}
